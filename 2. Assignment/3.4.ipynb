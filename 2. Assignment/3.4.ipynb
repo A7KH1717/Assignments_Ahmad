{
 "cells": [
  {
   "cell_type": "markdown",
   "source": [
    "## Testing Data Utility - 50 marks\n",
    "For this task, we take a closer look at the four different data sets from 3.2 and 3.3: \n",
    "- k_anon: Dataset created in 3.2, formed the base for achieving l-diversity and t-closeness\n",
    "- l_diverse: Dataset created in 3.2\n",
    "- t-close: Dataset created in 3.2\n",
    "- clustering: Dataset created in 3.3\n",
    "\n",
    "Because we used our (in 3.2) created reduced_athletes as the dataset to create all the other datasets, reduced_athletes will be used as the comparison. \n"
   ],
   "metadata": {
    "collapsed": false
   },
   "id": "e2cf0e0062c3cdb6"
  },
  {
   "cell_type": "markdown",
   "source": [
    "## The utility of the data\n",
    "\n",
    "In this task we try to answer the question of how well the data can still be used for its intended purposes compared to the original data. \n",
    "\n",
    "1. We will conduct a statistical comparison of the different data sets we created. \n",
    "   1. numerical attributes\n",
    "   2. categorical attributes\n"
   ],
   "metadata": {
    "collapsed": false
   },
   "id": "ec8c073db7a2eb20"
  },
  {
   "cell_type": "markdown",
   "source": [
    "### k_anon"
   ],
   "metadata": {
    "collapsed": false
   },
   "id": "3119003319a7086d"
  },
  {
   "cell_type": "code",
   "outputs": [
    {
     "data": {
      "text/plain": "athlete_id                0\nname                   7809\nregion                13809\nteam                  15474\naffiliate             14074\ngender                 7809\nage                    7809\nheight                10174\nweight                 9941\nfran                  14113\nhelen                 16183\ngrace                 15490\nfilthy50              17525\nfgonebad              16045\nrun400                17143\nrun5k                 16607\ncandj                 12416\nsnatch                12582\ndeadlift              11896\nbacksq                12218\npullups               14457\neat                   13347\ntrain                 12700\nbackground            13048\nexperience            12743\nschedule              13084\nhowlong               12560\nretrieved_datetime    20000\ndtype: int64"
     },
     "execution_count": 3,
     "metadata": {},
     "output_type": "execute_result"
    }
   ],
   "source": [
    "import statsmodels.api as sm\n",
    "import pandas as pd\n",
    "import numpy as np\n",
    "from sklearn.metrics import log_loss\n",
    "from sklearn.model_selection import train_test_split\n",
    "\n",
    "from catboost import CatBoostClassifier, Pool\n",
    "df = pd.read_csv(\"reduced_athletes.csv\", index_col=False, low_memory=False)\n",
    "df.isnull().sum()"
   ],
   "metadata": {
    "collapsed": false,
    "ExecuteTime": {
     "end_time": "2024-01-12T13:50:31.603304300Z",
     "start_time": "2024-01-12T13:50:31.512357400Z"
    }
   },
   "id": "539bf12e68d1f95e",
   "execution_count": 3
  },
  {
   "cell_type": "code",
   "outputs": [],
   "source": [
    "df.dropna(inplace=True)"
   ],
   "metadata": {
    "collapsed": false,
    "ExecuteTime": {
     "end_time": "2024-01-12T13:50:31.604311200Z",
     "start_time": "2024-01-12T13:50:31.590603400Z"
    }
   },
   "id": "7814efbf9c687b92",
   "execution_count": 4
  },
  {
   "cell_type": "code",
   "outputs": [],
   "source": [],
   "metadata": {
    "collapsed": false,
    "ExecuteTime": {
     "end_time": "2024-01-12T13:50:31.629286200Z",
     "start_time": "2024-01-12T13:50:31.605907200Z"
    }
   },
   "id": "ae9154b42063001f",
   "execution_count": 4
  },
  {
   "cell_type": "markdown",
   "source": [
    "### l_diverse\n",
    "\n"
   ],
   "metadata": {
    "collapsed": false
   },
   "id": "c7d8c83ec49ea8f"
  },
  {
   "cell_type": "markdown",
   "source": [
    "### t-close\n"
   ],
   "metadata": {
    "collapsed": false
   },
   "id": "74d7dc89abb81313"
  },
  {
   "cell_type": "markdown",
   "source": [
    "### clustering"
   ],
   "metadata": {
    "collapsed": false
   },
   "id": "a36271065c270870"
  },
  {
   "cell_type": "markdown",
   "source": [
    "## Comparing the relative utility of the data\n",
    "\n"
   ],
   "metadata": {
    "collapsed": false
   },
   "id": "1d34468855f454ad"
  },
  {
   "cell_type": "markdown",
   "source": [
    "## Degree of information loss\n"
   ],
   "metadata": {
    "collapsed": false
   },
   "id": "301ba97a655aa605"
  }
 ],
 "metadata": {
  "kernelspec": {
   "display_name": "Python 3",
   "language": "python",
   "name": "python3"
  },
  "language_info": {
   "codemirror_mode": {
    "name": "ipython",
    "version": 2
   },
   "file_extension": ".py",
   "mimetype": "text/x-python",
   "name": "python",
   "nbconvert_exporter": "python",
   "pygments_lexer": "ipython2",
   "version": "2.7.6"
  }
 },
 "nbformat": 4,
 "nbformat_minor": 5
}
