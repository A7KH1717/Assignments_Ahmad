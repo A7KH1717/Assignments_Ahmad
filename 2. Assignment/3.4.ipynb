{
 "cells": [
  {
   "cell_type": "markdown",
   "source": [
    "## Testing Data Utility - 50 marks\n",
    "For this task, we take a closer look at the four different data sets from 3.2 and 3.3: \n",
    "- k3_anon: Dataset created in 3.2, formed the base for achieving l-diversity and t-closeness\n",
    "- l_diverse: Dataset created in 3.2\n",
    "- t-close: Dataset created in 3.2\n",
    "- clustering: Dataset created in 3.3\n"
   ],
   "metadata": {
    "collapsed": false
   },
   "id": "e2cf0e0062c3cdb6"
  },
  {
   "cell_type": "markdown",
   "source": [
    "## The utility of the data"
   ],
   "metadata": {
    "collapsed": false
   },
   "id": "ec8c073db7a2eb20"
  },
  {
   "cell_type": "markdown",
   "source": [
    "## Comparing the relative utility of the data"
   ],
   "metadata": {
    "collapsed": false
   },
   "id": "1d34468855f454ad"
  },
  {
   "cell_type": "markdown",
   "source": [
    "## Degree of information loss\n"
   ],
   "metadata": {
    "collapsed": false
   },
   "id": "301ba97a655aa605"
  }
 ],
 "metadata": {
  "kernelspec": {
   "display_name": "Python 3",
   "language": "python",
   "name": "python3"
  },
  "language_info": {
   "codemirror_mode": {
    "name": "ipython",
    "version": 2
   },
   "file_extension": ".py",
   "mimetype": "text/x-python",
   "name": "python",
   "nbconvert_exporter": "python",
   "pygments_lexer": "ipython2",
   "version": "2.7.6"
  }
 },
 "nbformat": 4,
 "nbformat_minor": 5
}
