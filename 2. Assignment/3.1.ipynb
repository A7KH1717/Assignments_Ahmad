{
 "cells": [
  {
   "cell_type": "markdown",
   "source": [
    "## Assignment #2-3: Anonymisation\n",
    "- Dataset: Crossfit [Daset](https://data.world/bgadoci/crossfit-data) (In this assignment only the athletes file was used) \n",
    "- Credits: Dataset was put together by Sam Swift\n",
    "- ToDo: To run the jupyter notebook the requirements.txt need be installed (`pip install -r requirements.txt`)"
   ],
   "metadata": {
    "collapsed": false
   }
  },
  {
   "cell_type": "code",
   "execution_count": 35,
   "outputs": [],
   "source": [
    "import pandas as pd\n",
    "\n",
    "# Read csv as dataframe\n",
    "df = pd.read_csv(\"athletes.csv\", low_memory=False)"
   ],
   "metadata": {
    "collapsed": false,
    "ExecuteTime": {
     "end_time": "2024-01-09T09:22:14.711443600Z",
     "start_time": "2024-01-09T09:22:13.162964900Z"
    }
   }
  },
  {
   "cell_type": "markdown",
   "source": [
    "## 3.1 Anonymisation: Bare Bones – 10 marks\n",
    "Goals: The goal of k-anonymity is to modify a dataset such that any given record cannot be distinguished from at least k−1 other records regarding certain \"quasi-identifier\" attributes. \n",
    "\n",
    "### Algorithm Steps: \n",
    "1. Identify the direct identifier attributes in the data set.\n",
    "2. Identify the quasi-identifiers attributes in the dataset.\n",
    "3. Apply k-anonymity: Choose a value for k = size of the groups of indistinguishable records\n",
    "4. Use Generalization and Suppression as the transformation methods to transform quasi-identifiers\n",
    "5. Ensure that there are at least k records for each combination of quasi-identifiers"
   ],
   "metadata": {
    "collapsed": false
   }
  },
  {
   "cell_type": "markdown",
   "source": [
    "#### 1. Identify  direct identifier attributes\n",
    "- By inspecting the different columns and the data format, several attributes which have the potential to contain explicit personally identifiable information can be identified\n",
    "    - `athelete_id`\n",
    "        -  This really depends on the usage of this id! Considerations to take into account are: \n",
    "            - Is the `athlete_id` only used as an internal id of this dataset or does it maybe even refer to an official id?\n",
    "            - Are there other datasets available which may have a similar source to this dataset? Thus, these other datasets may use the same `athlete_id`\n",
    "    - `name`\n",
    "        - The name allows to identify an individual\n",
    "    - `team`\n",
    "        - Depending on the size of the team, this could allow to identify a specific athlete\n",
    "    - `affiliate` \n",
    "        - Depending on the affiliate and the amount of contracted athletes, this could allow to identify an individual\n",
    "    - All stats of the athletes\n",
    "        - If an athlete has really remarkable stats (maybe even a world record in a category), this could allow to identify the individual\n",
    "    - `train` \n",
    "        - If an athlete has a special and famous training routine, this could allow to identify him\n",
    "    - `background`\n",
    "        - If an athlete has a famous background or mentions names, this could allow to identify him\n",
    "    - `experience`\n",
    "        - If an athlete mentions concrete information about his experience (e.g. name of current coach), this could allow to identify him\n",
    "\n",
    "-> As can be seen, all columns could potentially contain outliers which could be then used to identify an individual. "
   ],
   "metadata": {
    "collapsed": false
   }
  },
  {
   "cell_type": "markdown",
   "source": [
    "#### 2. Identify the quasi-identifiers attributes in the dataset\n",
    "- In this step, we use the following script to search for any attributes not flagged as PII in the step before. "
   ],
   "metadata": {
    "collapsed": false
   }
  },
  {
   "cell_type": "code",
   "execution_count": 36,
   "outputs": [
    {
     "name": "stdout",
     "output_type": "stream",
     "text": [
      "Potential Quasi-Identifiers: ['region', 'gender', 'age', 'height', 'weight', 'eat', 'schedule', 'howlong', 'retrieved_datetime']\n"
     ]
    }
   ],
   "source": [
    "# identify potential quasi-identifiers\n",
    "def identify_quasi_identifiers(dataframe, sensitive_columns):\n",
    "    quasi_identifiers = []\n",
    "    for column in dataframe.columns:\n",
    "        # Skip sensitive attributes\n",
    "        if column in sensitive_columns:\n",
    "            continue\n",
    "        \n",
    "        unique_count = dataframe[column].nunique()\n",
    "        # Assume a column could be a quasi-identifier if it's not unique for each record\n",
    "        # but has a high number of unique values.\n",
    "        if 1 < unique_count < len(dataframe):\n",
    "            quasi_identifiers.append(column)\n",
    "    \n",
    "    return quasi_identifiers\n",
    "\n",
    "# column names we know are PII\n",
    "sensitive_columns = ['athlete_id', 'name', 'team', 'affiliate', 'train', 'background', 'experience', 'fran', 'helen',  'grace', 'filthy50', 'fgonebad', 'run400', 'run5k', 'candj', 'snatch', 'deadlift', 'backsq', 'pullups']\n",
    "\n",
    "# Identify potential quasi-identifiers\n",
    "potential_quasi_identifiers = identify_quasi_identifiers(df, sensitive_columns)\n",
    "print(\"Potential Quasi-Identifiers:\", potential_quasi_identifiers)"
   ],
   "metadata": {
    "collapsed": false,
    "ExecuteTime": {
     "end_time": "2024-01-09T09:22:14.792612400Z",
     "start_time": "2024-01-09T09:22:14.713383800Z"
    }
   }
  },
  {
   "cell_type": "markdown",
   "source": [],
   "metadata": {
    "collapsed": false
   }
  },
  {
   "cell_type": "markdown",
   "source": [],
   "metadata": {
    "collapsed": false
   }
  },
  {
   "cell_type": "markdown",
   "source": [],
   "metadata": {
    "collapsed": false
   }
  },
  {
   "cell_type": "markdown",
   "source": [],
   "metadata": {
    "collapsed": false
   }
  }
 ],
 "metadata": {
  "kernelspec": {
   "display_name": "Python 3",
   "language": "python",
   "name": "python3"
  },
  "language_info": {
   "codemirror_mode": {
    "name": "ipython",
    "version": 2
   },
   "file_extension": ".py",
   "mimetype": "text/x-python",
   "name": "python",
   "nbconvert_exporter": "python",
   "pygments_lexer": "ipython2",
   "version": "2.7.6"
  }
 },
 "nbformat": 4,
 "nbformat_minor": 0
}
