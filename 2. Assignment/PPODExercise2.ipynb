{
 "cells": [
  {
   "cell_type": "raw",
   "source": [
    "1. Read the CSV"
   ],
   "metadata": {
    "collapsed": false
   },
   "id": "c7a13b2d2514c161"
  },
  {
   "cell_type": "code",
   "outputs": [],
   "source": [
    "import pandas as pd\n",
    "from pycanon import anonymity, report\n",
    "# Read csv as dataframe\n",
    "dataframe = pd.read_csv(\"athletes.csv\", low_memory=False)"
   ],
   "metadata": {
    "collapsed": false,
    "ExecuteTime": {
     "end_time": "2023-12-26T19:16:14.606119800Z",
     "start_time": "2023-12-26T19:16:13.527029800Z"
    }
   },
   "id": "8a3c742be84b9116",
   "execution_count": 55
  },
  {
   "cell_type": "raw",
   "source": [
    "Step 2. Remove the identifiers: \"athlete_id\" and \"name\" \n",
    "Step 3  Identify the quasi identifiers: \"age\", \"height\", \"weight\", \"region\", \"team\", \"affiliate\", \"gender\"\n",
    "Step 4. Apply (1) Surpression (2) Generalization (3)"
   ],
   "metadata": {
    "collapsed": false
   },
   "id": "1339db8a82dd2377"
  },
  {
   "cell_type": "code",
   "outputs": [],
   "source": [
    "#dataframe.drop(['athlete_id', 'name'], axis=1, inplace=True)\n",
    "QI = [\"age\", \"height\", \"weight\"]\n",
    "\n",
    "dataframe['team'] = '*'\n",
    "dataframe['region'] = '*'\n",
    "\n",
    "\n",
    "dataframe['age'] = dataframe['age'].apply(lambda x: format(x, '.0f'))\n",
    "dataframe['age'] = dataframe['age'].apply(lambda x: x[:-1] + '*' if x not in ['NA', 'nan'] else 'NA')\n",
    "\n",
    "bins_height = [0, 159, 169, 179, 189, 199, 220]\n",
    "labels_height = ['0-159', '160-169', '170-179', '180-189', '190-199', '200+']\n",
    "\n",
    "bins_weight = [0, 100, 150, 200, 250, 300]\n",
    "labels_weight = ['0-100', '101-150', '151-200', '201-250', '251-300+']\n",
    "\n",
    "dataframe['height'] = pd.cut(dataframe['height'], bins=bins_height, labels=labels_height)\n",
    "dataframe['weight'] = pd.cut(dataframe['weight'], bins=bins_weight, labels=labels_weight)\n",
    "\n",
    "\n",
    "dataframe['height'] = dataframe['height'].apply(str)\n",
    "dataframe['weight'] = dataframe['weight'].apply(str)\n",
    "\n",
    "dataframe.to_csv('anonymised2.csv', index=False)"
   ],
   "metadata": {
    "collapsed": false,
    "ExecuteTime": {
     "end_time": "2023-12-26T19:16:17.007743700Z",
     "start_time": "2023-12-26T19:16:14.609018300Z"
    }
   },
   "id": "382aa1fc0d722c4e",
   "execution_count": 56
  }
 ],
 "metadata": {
  "kernelspec": {
   "display_name": "Python 3",
   "language": "python",
   "name": "python3"
  },
  "language_info": {
   "codemirror_mode": {
    "name": "ipython",
    "version": 2
   },
   "file_extension": ".py",
   "mimetype": "text/x-python",
   "name": "python",
   "nbconvert_exporter": "python",
   "pygments_lexer": "ipython2",
   "version": "2.7.6"
  }
 },
 "nbformat": 4,
 "nbformat_minor": 5
}
