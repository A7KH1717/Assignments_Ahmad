{
 "cells": [
  {
   "cell_type": "markdown",
   "source": [
    "# Assignment #4-5: Anonymising Textual Data and De-Anonymisation\n",
    "- Dataset:  Tweets Emotions [Daset](https://www.kaggle.com/datasets/pashupatigupta/emotion-detection-from-text?resource=download)\n",
    "- Credits: Dataset was put together by Pashipatu Gupta\n",
    "- ToDo: To run the jupyter notebook the requirements.txt need be installed (`pip install -r requirements.txt`)"
   ],
   "metadata": {
    "collapsed": false
   },
   "id": "f3e766beca369aa4"
  },
  {
   "cell_type": "markdown",
   "source": [
    "### 3.1.1 Do some research to determine what needs to be anonymised in the data and why.\n",
    "- For a better understanding of the structure of the dataset , we display the attribute values\n",
    "    - What columns does the dataset contain and in what format are the attribute values?\n",
    "        - Therefore, each column and the first value of each column (which is not empty or Null) is printed"
   ],
   "metadata": {
    "collapsed": false
   },
   "id": "237a8e23efc1b84d"
  },
  {
   "cell_type": "code",
   "execution_count": 16,
   "outputs": [
    {
     "name": "stdout",
     "output_type": "stream",
     "text": [
      "     tweet_id   sentiment                                            content\n",
      "0  1956967341       empty  @tiffanylue i know  i was listenin to bad habi...\n",
      "1  1956967666     sadness  Layin n bed with a headache  ughhhh...waitin o...\n",
      "2  1956967696     sadness                Funeral ceremony...gloomy friday...\n",
      "3  1956967789  enthusiasm               wants to hang out with friends SOON!\n",
      "total lenth of the dataframe:  40000\n"
     ]
    }
   ],
   "source": [
    "import pandas as pd\n",
    "df = pd.read_csv(\"tweet_emotions.csv\")\n",
    "print(df.iloc[:4])"
   ],
   "metadata": {
    "collapsed": false,
    "ExecuteTime": {
     "end_time": "2024-01-26T14:11:48.396920Z",
     "start_time": "2024-01-26T14:11:48.351522Z"
    }
   },
   "id": "74a9cb538af3b384"
  },
  {
   "cell_type": "markdown",
   "source": [
    "By inspecting the different columns and the data format, the 'content' attribute has the potential to contain explicit personally identifiable information can be identified:\n",
    "1. User Mentions: \n",
    "    - Any instance of @username should be anonymised because it directly points to an individual's account, which is considered personally identifiable information (PII).\n",
    "2. First Names: \n",
    "    - If any first names are used in a context that can identify an individual, such as tagging in combination with other identifying information, they should be anonymised.\n",
    "3. Locations and Specific References: \n",
    "    - Any mention of specific locations, addresses, landmarks, or establishments that could help in identifying an individual should be anonymised.\n",
    "4. Specific Events with Identifiable Information: \n",
    "    - References to specific events that may lead to the identification of individuals, like parties or gatherings with a list of names, should be anonymised.\n",
    "5. Unique Identifiers: \n",
    "    - Any other unique identifiers, such as specific dates, times, or unique events, that could potentially be linked back to an individual.\n",
    "\n",
    "\n",
    "Apart from that, the 'sentiment' attribute is explored further as we don't know by now, how many unique values there actually are and if they would qualify as PII: "
   ],
   "metadata": {
    "collapsed": false
   },
   "id": "190ed3635d49ace1"
  },
  {
   "cell_type": "code",
   "execution_count": 17,
   "outputs": [
    {
     "name": "stdout",
     "output_type": "stream",
     "text": [
      "total lenth of the dataframe:  40000\n",
      "number of unique values for sentiment:  13\n",
      "counts per unique value:  sentiment\n",
      "neutral       8638\n",
      "worry         8459\n",
      "happiness     5209\n",
      "sadness       5165\n",
      "love          3842\n",
      "surprise      2187\n",
      "fun           1776\n",
      "relief        1526\n",
      "hate          1323\n",
      "empty          827\n",
      "enthusiasm     759\n",
      "boredom        179\n",
      "anger          110\n",
      "Name: count, dtype: int64\n"
     ]
    }
   ],
   "source": [
    "print(\"total lenth of the dataframe: \", len(df))\n",
    "\n",
    "# Calculate the number of unique values and the number of entries per unique value\n",
    "unique_counts = df['sentiment'].nunique()\n",
    "value_counts = df['sentiment'].value_counts()\n",
    "\n",
    "print(\"number of unique values for sentiment: \", unique_counts)\n",
    "print(\"counts per unique value: \", value_counts)"
   ],
   "metadata": {
    "collapsed": false,
    "ExecuteTime": {
     "end_time": "2024-01-26T14:12:06.770707Z",
     "start_time": "2024-01-26T14:12:06.759823Z"
    }
   },
   "id": "7409df0e76827242"
  },
  {
   "cell_type": "markdown",
   "source": [
    "By inspecting the 'sentiment' attribute further, we can say that there are 13 different values in the 'sentiment' column. We also know that there are 40,000 tweets in total in the dataset. Given this information, there is no need to anonymize the 'sentiment' attribute."
   ],
   "metadata": {
    "collapsed": false
   },
   "id": "48910199218c1788"
  },
  {
   "cell_type": "markdown",
   "source": [
    "### 3.1.2 Using a Natural Language Processing library (e.g. Python’s spaCy), analyse the text to identify elements of personally identifiable information (PII).\n",
    "\n"
   ],
   "metadata": {
    "collapsed": false
   },
   "id": "9ed5640c245c74b6"
  },
  {
   "cell_type": "code",
   "execution_count": 15,
   "outputs": [],
   "source": [],
   "metadata": {
    "collapsed": false,
    "ExecuteTime": {
     "end_time": "2024-01-26T14:08:56.328703Z",
     "start_time": "2024-01-26T14:08:56.325166Z"
    }
   },
   "id": "7aeb8f4d70fdbdfd"
  },
  {
   "cell_type": "markdown",
   "source": [
    "### 3.1.3 Using the techniques you applied in Assignment #1, apply a masking or transformation mechanism to modify the detected PII elements and substitute with suitable replacements."
   ],
   "metadata": {
    "collapsed": false
   },
   "id": "4165656a106a2752"
  },
  {
   "cell_type": "code",
   "execution_count": 15,
   "outputs": [],
   "source": [],
   "metadata": {
    "collapsed": false,
    "ExecuteTime": {
     "end_time": "2024-01-26T14:08:56.330931Z",
     "start_time": "2024-01-26T14:08:56.327951Z"
    }
   },
   "id": "7aef841f332cbc5"
  },
  {
   "cell_type": "markdown",
   "source": [
    "### 3.1.4 Analyse the text to determine what if any information can be obtained after the transformation process. What conclusions can you draw from this?"
   ],
   "metadata": {
    "collapsed": false
   },
   "id": "7eb3962248019abc"
  }
 ],
 "metadata": {
  "kernelspec": {
   "display_name": "Python 3",
   "language": "python",
   "name": "python3"
  },
  "language_info": {
   "codemirror_mode": {
    "name": "ipython",
    "version": 2
   },
   "file_extension": ".py",
   "mimetype": "text/x-python",
   "name": "python",
   "nbconvert_exporter": "python",
   "pygments_lexer": "ipython2",
   "version": "2.7.6"
  }
 },
 "nbformat": 4,
 "nbformat_minor": 5
}
