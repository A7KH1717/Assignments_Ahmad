{
 "cells": [
  {
   "cell_type": "markdown",
   "source": [
    "## 3.2 De-anonymising a dataset – 50 marks\n",
    "- Dataset:  \n",
    "- Credits: "
   ],
   "metadata": {
    "collapsed": false
   },
   "id": "ed1dad3c5496335"
  },
  {
   "cell_type": "markdown",
   "source": [
    "### 3.2.1 Using standard search mechanisms, determine if there are any elements within the dataset that you received, that allow for de-anonymistaions to occur. Make a note of what you find and explain the procedure you used. "
   ],
   "metadata": {
    "collapsed": false
   },
   "id": "a7324cb9cdbe8e0e"
  },
  {
   "cell_type": "code",
   "outputs": [],
   "source": [],
   "metadata": {
    "collapsed": false
   },
   "id": "97a2532da23b39bb"
  },
  {
   "cell_type": "markdown",
   "source": [
    "### 3.2.2 Design a de-anonymisation algorithm and apply to both the received dataset and your dataset. Report on the following:"
   ],
   "metadata": {
    "collapsed": false
   },
   "id": "4c3e2ef7e7a435a4"
  },
  {
   "cell_type": "code",
   "outputs": [],
   "source": [],
   "metadata": {
    "collapsed": false
   },
   "id": "46b12fa7233d4e62"
  }
 ],
 "metadata": {
  "kernelspec": {
   "display_name": "Python 3",
   "language": "python",
   "name": "python3"
  },
  "language_info": {
   "codemirror_mode": {
    "name": "ipython",
    "version": 2
   },
   "file_extension": ".py",
   "mimetype": "text/x-python",
   "name": "python",
   "nbconvert_exporter": "python",
   "pygments_lexer": "ipython2",
   "version": "2.7.6"
  }
 },
 "nbformat": 4,
 "nbformat_minor": 5
}
