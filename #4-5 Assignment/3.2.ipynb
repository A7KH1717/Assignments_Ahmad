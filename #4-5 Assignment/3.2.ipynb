{
 "cells": [
  {
   "cell_type": "markdown",
   "source": [
    "## 3.2 De-anonymizing a dataset – 50 marks\n",
    "For this task, we are using a dataset provided to us by our colleagues. The Dataset has been anonymized using bayesian inferences. \n",
    "- Dataset: police-shooting_anonymized.csv"
   ],
   "metadata": {
    "collapsed": false
   },
   "id": "ed1dad3c5496335"
  },
  {
   "cell_type": "markdown",
   "source": [
    "### 3.2.1 Using standard search mechanisms, determine if there are any elements within the dataset that you received, that allow for de-anonymizations to occur. Make a note of what you find and explain the procedure you used. \n",
    "First of all, we look at the data present in our new dataset. The dataset contains information about victims of police shootings with information about where they happened (city, state, longitude, latitude), when they happened (date), information about the victims (gender, race, manner of death, signs_of_mental_illness, threat level, flee) and body_camera giving information about whether the police officer was wearing a body cam. \n",
    "\n"
   ],
   "metadata": {
    "collapsed": false
   },
   "id": "a7324cb9cdbe8e0e"
  },
  {
   "cell_type": "code",
   "outputs": [
    {
     "name": "stdout",
     "output_type": "stream",
     "text": [
      "         date   manner_of_death       armed   age gender race  \\\n",
      "0  2022-11-06              shot         gun  20.0      M    H   \n",
      "1  2016-01-20              shot         gun  32.0      M    W   \n",
      "2  2020-08-29  shot and Tasered     unarmed  56.0      M    B   \n",
      "3  2020-07-12              shot  toy weapon  52.0      F    B   \n",
      "4  2019-04-29              shot    nail gun  19.0      M    B   \n",
      "\n",
      "               city state  signs_of_mental_illness threat_level         flee  \\\n",
      "0         Baltimore    AZ                     True       attack  Not fleeing   \n",
      "1         Kerrville    ME                    False       attack  Not fleeing   \n",
      "2  Dearborn Heights    NC                    False        other  Not fleeing   \n",
      "3   Butler Township    FL                     True       attack  Not fleeing   \n",
      "4            Edmond    MS                    False       attack  Not fleeing   \n",
      "\n",
      "   body_camera  longitude  latitude  is_geocoding_exact  \n",
      "0        False    -83.663    37.472                True  \n",
      "1        False    -86.043    38.879                True  \n",
      "2        False    -96.642    32.958                True  \n",
      "3        False    -82.765    28.150                True  \n",
      "4        False    -93.746    32.492                True  \n"
     ]
    }
   ],
   "source": [
    "import pandas as pd\n",
    "df = pd.read_csv(\"police_shooting_anonymized.csv\")\n",
    "print(df.iloc[:5])"
   ],
   "metadata": {
    "collapsed": false,
    "ExecuteTime": {
     "end_time": "2024-02-21T12:51:08.061625Z",
     "start_time": "2024-02-21T12:51:08.019714Z"
    }
   },
   "id": "97a2532da23b39bb",
   "execution_count": 7
  },
  {
   "cell_type": "markdown",
   "source": [
    "In our case, we tried google searching some of the entries on the internet trying to match information with the given dataset. The first entry of the dataset directly provides us with multiple online articles talking about the shooting in Baltimore on the 06.11.2022 without mentioning the name of the victim. We can find the respective name after searching for another while in a YouTube video showing the body cam of an officer present at the shooting on the 06.11.2022 - The name of the victim was Tyree Moorehead. \n",
    "Going further we tried matching other entries to real world events and there wasn't one entry we did not succeed with a simple google search. For the first five entries, the victim names are: \n",
    "- Tyree Moorehead\n",
    "- Michael Clyde Lynch\n",
    "- Donny Walker\n",
    "- Terena Nicole Thurman\n",
    "- Isaiah Lewis"
   ],
   "metadata": {
    "collapsed": false
   },
   "id": "fbd8602ae9d4c0d3"
  },
  {
   "cell_type": "markdown",
   "source": [
    "### 3.2.2 Design a de-anonymisation algorithm and apply to both the received dataset and your dataset. Report on the following:\n",
    "In this section, we aim to explore the underlying patterns and potentially re-identify anonymized records in our police-shooting dataset containing sensitive information about victims of fatal police shootings. The dataset includes demographic details, incident locations, and other attributes that could potentially be pieced together to de-anonymize the data.\n",
    "\n",
    "To achieve this, we will utilize Factor Analysis of Mixed Data (FAMD), which is an extension of principal component analysis (PCA) that is suitable for mixed data types (categorical and numerical). FAMD allows us to reduce the dimensionality of the data while preserving the relationships between both numerical and categorical variables. The rationale behind the choice of FAMD and the specific parameters set in the initialization of the prince.FAMD object is as follows:\n",
    "\n",
    "1. n_components=2: We choose to extract two principal components to simplify visualization and interpretation of the data in a 2D space, which is often sufficient to capture significant variance in the data.\n",
    "2. n_iter=3: A lower number of iterations provides a quicker approximation of the FAMD solution, this can be advantageous for large datasets."
   ],
   "metadata": {
    "collapsed": false
   },
   "id": "4c3e2ef7e7a435a4"
  },
  {
   "cell_type": "code",
   "execution_count": 8,
   "outputs": [],
   "source": [
    "#!pip install -U \"vegafusion[embed]\" # we use vegafusion for interactive charts"
   ],
   "metadata": {
    "collapsed": false,
    "ExecuteTime": {
     "end_time": "2024-02-21T12:51:08.063771Z",
     "start_time": "2024-02-21T12:51:08.061353Z"
    }
   },
   "id": "cb6c9ac8e0c730dc"
  },
  {
   "cell_type": "code",
   "outputs": [
    {
     "name": "stdout",
     "output_type": "stream",
     "text": [
      "          eigenvalue % of variance % of variance (cumulative)\n",
      "component                                                    \n",
      "0             12.724         0.05%                      0.05%\n",
      "1             12.380         0.05%                      0.10%\n",
      "component          0         1\n",
      "0           0.602289 -0.231371\n",
      "1           1.696160  4.199227\n",
      "2          -1.275863  2.524905\n",
      "3          11.904668  4.453371\n",
      "4           6.313158 -5.749478\n",
      "component                       0         1\n",
      "variable                                   \n",
      "age                      0.000084  0.000142\n",
      "longitude                0.000001  0.000004\n",
      "latitude                 0.000763  0.000026\n",
      "armed                    0.252883  0.175638\n",
      "body_camera              0.001028  0.000374\n",
      "city                     0.887289  0.914713\n",
      "date                     0.891825  0.910021\n",
      "flee                     0.033574  0.018013\n",
      "gender                   0.000485  0.000516\n",
      "is_geocoding_exact       0.001214  0.003795\n",
      "manner_of_death          0.003510  0.002532\n",
      "race                     0.014169  0.015456\n",
      "signs_of_mental_illness  0.014118  0.000308\n",
      "state                    0.054213  0.086642\n",
      "threat_level             0.066301  0.003259\n"
     ]
    },
    {
     "ename": "TypeError",
     "evalue": "plot() got an unexpected keyword argument 'figsize'",
     "output_type": "error",
     "traceback": [
      "\u001B[0;31m---------------------------------------------------------------------------\u001B[0m",
      "\u001B[0;31mTypeError\u001B[0m                                 Traceback (most recent call last)",
      "Cell \u001B[0;32mIn[18], line 46\u001B[0m\n\u001B[1;32m     38\u001B[0m outlier_rows\u001B[38;5;241m.\u001B[39mto_csv(\u001B[38;5;124m'\u001B[39m\u001B[38;5;124moutliers.csv\u001B[39m\u001B[38;5;124m'\u001B[39m, index\u001B[38;5;241m=\u001B[39m\u001B[38;5;28;01mFalse\u001B[39;00m)\n\u001B[1;32m     40\u001B[0m famd\u001B[38;5;241m.\u001B[39mplot(\n\u001B[1;32m     41\u001B[0m     df,\n\u001B[1;32m     42\u001B[0m     x_component\u001B[38;5;241m=\u001B[39m\u001B[38;5;241m0\u001B[39m,\n\u001B[1;32m     43\u001B[0m     y_component\u001B[38;5;241m=\u001B[39m\u001B[38;5;241m1\u001B[39m\n\u001B[1;32m     44\u001B[0m )\n\u001B[0;32m---> 46\u001B[0m \u001B[43mfamd\u001B[49m\u001B[38;5;241;43m.\u001B[39;49m\u001B[43mplot\u001B[49m\u001B[43m(\u001B[49m\n\u001B[1;32m     47\u001B[0m \u001B[43m    \u001B[49m\u001B[43mdf\u001B[49m\u001B[43m,\u001B[49m\n\u001B[1;32m     48\u001B[0m \u001B[43m    \u001B[49m\u001B[43mfigsize\u001B[49m\u001B[38;5;241;43m=\u001B[39;49m\u001B[43m(\u001B[49m\u001B[38;5;241;43m6\u001B[39;49m\u001B[43m,\u001B[49m\u001B[43m \u001B[49m\u001B[38;5;241;43m6\u001B[39;49m\u001B[43m)\u001B[49m\u001B[43m,\u001B[49m\n\u001B[1;32m     49\u001B[0m \u001B[43m    \u001B[49m\u001B[43mx_component\u001B[49m\u001B[38;5;241;43m=\u001B[39;49m\u001B[38;5;241;43m0\u001B[39;49m\u001B[43m,\u001B[49m\n\u001B[1;32m     50\u001B[0m \u001B[43m    \u001B[49m\u001B[43my_component\u001B[49m\u001B[38;5;241;43m=\u001B[39;49m\u001B[38;5;241;43m1\u001B[39;49m\u001B[43m,\u001B[49m\n\u001B[1;32m     51\u001B[0m \u001B[43m    \u001B[49m\u001B[43mlabels\u001B[49m\u001B[38;5;241;43m=\u001B[39;49m\u001B[43mdf\u001B[49m\u001B[38;5;241;43m.\u001B[39;49m\u001B[43mindex\u001B[49m\u001B[43m,\u001B[49m\n\u001B[1;32m     52\u001B[0m \u001B[43m    \u001B[49m\u001B[43mcolor_labels\u001B[49m\u001B[38;5;241;43m=\u001B[39;49m\u001B[38;5;28;43;01mNone\u001B[39;49;00m\u001B[43m,\u001B[49m\n\u001B[1;32m     53\u001B[0m \u001B[43m    \u001B[49m\u001B[43mellipse_outline\u001B[49m\u001B[38;5;241;43m=\u001B[39;49m\u001B[38;5;28;43;01mFalse\u001B[39;49;00m\u001B[43m,\u001B[49m\n\u001B[1;32m     54\u001B[0m \u001B[43m    \u001B[49m\u001B[43mellipse_fill\u001B[49m\u001B[38;5;241;43m=\u001B[39;49m\u001B[38;5;28;43;01mTrue\u001B[39;49;00m\u001B[43m,\u001B[49m\n\u001B[1;32m     55\u001B[0m \u001B[43m    \u001B[49m\u001B[43mshow_points\u001B[49m\u001B[38;5;241;43m=\u001B[39;49m\u001B[38;5;28;43;01mTrue\u001B[39;49;00m\n\u001B[1;32m     56\u001B[0m \u001B[43m)\u001B[49m\n",
      "File \u001B[0;32m~/PycharmProjects/PPOD/.venv/lib/python3.9/site-packages/prince/utils.py:28\u001B[0m, in \u001B[0;36mcheck_is_dataframe_input.<locals>.wrapper\u001B[0;34m(*args, **kwargs)\u001B[0m\n\u001B[1;32m     24\u001B[0m \u001B[38;5;28;01mif\u001B[39;00m \u001B[38;5;129;01mnot\u001B[39;00m \u001B[38;5;28misinstance\u001B[39m(X, pd\u001B[38;5;241m.\u001B[39mDataFrame):\n\u001B[1;32m     25\u001B[0m     \u001B[38;5;28;01mraise\u001B[39;00m \u001B[38;5;167;01mValueError\u001B[39;00m(\n\u001B[1;32m     26\u001B[0m         \u001B[38;5;124mf\u001B[39m\u001B[38;5;124m\"\u001B[39m\u001B[38;5;124mThe X argument must be a pandas DataFrame, but got \u001B[39m\u001B[38;5;132;01m{\u001B[39;00m\u001B[38;5;28mtype\u001B[39m(X)\u001B[38;5;241m.\u001B[39m\u001B[38;5;18m__name__\u001B[39m\u001B[38;5;132;01m}\u001B[39;00m\u001B[38;5;124m\"\u001B[39m\n\u001B[1;32m     27\u001B[0m     )\n\u001B[0;32m---> 28\u001B[0m \u001B[38;5;28;01mreturn\u001B[39;00m \u001B[43mfunc\u001B[49m\u001B[43m(\u001B[49m\u001B[38;5;241;43m*\u001B[39;49m\u001B[43margs\u001B[49m\u001B[43m,\u001B[49m\u001B[43m \u001B[49m\u001B[38;5;241;43m*\u001B[39;49m\u001B[38;5;241;43m*\u001B[39;49m\u001B[43mkwargs\u001B[49m\u001B[43m)\u001B[49m\n",
      "File \u001B[0;32m~/PycharmProjects/PPOD/.venv/lib/python3.9/site-packages/prince/utils.py:15\u001B[0m, in \u001B[0;36mcheck_is_fitted.<locals>._impl\u001B[0;34m(self, *method_args, **method_kwargs)\u001B[0m\n\u001B[1;32m     12\u001B[0m \u001B[38;5;129m@functools\u001B[39m\u001B[38;5;241m.\u001B[39mwraps(method)\n\u001B[1;32m     13\u001B[0m \u001B[38;5;28;01mdef\u001B[39;00m \u001B[38;5;21m_impl\u001B[39m(\u001B[38;5;28mself\u001B[39m, \u001B[38;5;241m*\u001B[39mmethod_args, \u001B[38;5;241m*\u001B[39m\u001B[38;5;241m*\u001B[39mmethod_kwargs):\n\u001B[1;32m     14\u001B[0m     validation\u001B[38;5;241m.\u001B[39mcheck_is_fitted(\u001B[38;5;28mself\u001B[39m)\n\u001B[0;32m---> 15\u001B[0m     \u001B[38;5;28;01mreturn\u001B[39;00m \u001B[43mmethod\u001B[49m\u001B[43m(\u001B[49m\u001B[38;5;28;43mself\u001B[39;49m\u001B[43m,\u001B[49m\u001B[43m \u001B[49m\u001B[38;5;241;43m*\u001B[39;49m\u001B[43mmethod_args\u001B[49m\u001B[43m,\u001B[49m\u001B[43m \u001B[49m\u001B[38;5;241;43m*\u001B[39;49m\u001B[38;5;241;43m*\u001B[39;49m\u001B[43mmethod_kwargs\u001B[49m\u001B[43m)\u001B[49m\n",
      "\u001B[0;31mTypeError\u001B[0m: plot() got an unexpected keyword argument 'figsize'"
     ]
    }
   ],
   "source": [
    "import pandas as pd\n",
    "from scipy import stats\n",
    "import numpy as np\n",
    "import prince\n",
    "import warnings\n",
    "import altair as alt\n",
    "alt.data_transformers.enable(\"vegafusion\")\n",
    "\n",
    "\n",
    "# Ignore specific PerformanceWarnings from pandas\n",
    "warnings.filterwarnings('ignore', category=pd.errors.PerformanceWarning)\n",
    "# Load the dataset\n",
    "df = pd.read_csv('police_shooting_anonymized.csv')\n",
    "\n",
    "\n",
    "# Initialize FAMD object: specifying the number of components (n_components)\n",
    "famd = prince.FAMD(\n",
    "    n_components=2,\n",
    "    n_iter=3,\n",
    "    copy=True,\n",
    "    check_input=True,\n",
    "    random_state=42,\n",
    "    engine=\"sklearn\",\n",
    "    handle_unknown=\"error\"  # same parameter as sklearn.preprocessing.OneHotEncoder\n",
    ")\n",
    "# Fit FAMD on the dataset\n",
    "famd = famd.fit(df)\n",
    "print(famd.eigenvalues_summary)\n",
    "print(famd.row_coordinates(df).head())\n",
    "print(famd.column_coordinates_)\n",
    "\n",
    "\n",
    "df_transformed = famd.transform(df)\n",
    "z_scores = np.abs(stats.zscore(df_transformed))\n",
    "outliers = np.where(z_scores > 3) \n",
    "\n",
    "outlier_rows = df.iloc[outliers[0]]\n",
    "outlier_rows.to_csv('outliers.csv', index=False)\n",
    "\n",
    "famd.plot(\n",
    "    df,\n",
    "    x_component=0,\n",
    "    y_component=1\n",
    ")\n",
    "\n"
   ],
   "metadata": {
    "collapsed": false,
    "ExecuteTime": {
     "end_time": "2024-02-21T13:02:50.162349Z",
     "start_time": "2024-02-21T13:02:41.223155Z"
    }
   },
   "id": "46b12fa7233d4e62",
   "execution_count": 18
  },
  {
   "cell_type": "markdown",
   "source": [
    "### a) What are you able to discover using your de-anonymisation algorithm?\n"
   ],
   "metadata": {
    "collapsed": false
   },
   "id": "77b1bbdca585c677"
  },
  {
   "cell_type": "markdown",
   "source": [
    "### b) How your discoveries (with the anonymised algorithm) compare to the results from Q1?\n",
    "- Regarding the police shooting dataset anonymized using bayesian inferences: \n",
    "    Since we were already successful in deanonymizing the dataset in 3.2.1, we didn't gain additional knowledge by applying our de-anonymization to the dataset. \n",
    "- Regarding the \n"
   ],
   "metadata": {
    "collapsed": false
   },
   "id": "3eba2885e1925292"
  },
  {
   "cell_type": "code",
   "execution_count": 9,
   "outputs": [],
   "source": [],
   "metadata": {
    "collapsed": false,
    "ExecuteTime": {
     "end_time": "2024-02-21T12:51:17.443922Z",
     "start_time": "2024-02-21T12:51:17.437779Z"
    }
   },
   "id": "a61c17fae7e2ea3d"
  },
  {
   "cell_type": "markdown",
   "source": [
    "### c)\n",
    "\n"
   ],
   "metadata": {
    "collapsed": false
   },
   "id": "c1cc08ec601c3338"
  }
 ],
 "metadata": {
  "kernelspec": {
   "display_name": "Python 3",
   "language": "python",
   "name": "python3"
  },
  "language_info": {
   "codemirror_mode": {
    "name": "ipython",
    "version": 2
   },
   "file_extension": ".py",
   "mimetype": "text/x-python",
   "name": "python",
   "nbconvert_exporter": "python",
   "pygments_lexer": "ipython2",
   "version": "2.7.6"
  }
 },
 "nbformat": 4,
 "nbformat_minor": 5
}
