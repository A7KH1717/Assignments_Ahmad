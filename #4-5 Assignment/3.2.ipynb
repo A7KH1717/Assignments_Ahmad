{
 "cells": [
  {
   "cell_type": "markdown",
   "source": [
    "## 3.2 De-anonymising a dataset – 50 marks\n",
    "For this task, we are using a dataset provided to us by our colleagues. The Dataset has been anonymized using bayesian inferences. \n",
    "- Dataset:  \n",
    "- Credits: "
   ],
   "metadata": {
    "collapsed": false
   },
   "id": "ed1dad3c5496335"
  },
  {
   "cell_type": "markdown",
   "source": [
    "### 3.2.1 Using standard search mechanisms, determine if there are any elements within the dataset that you received, that allow for de-anonymistaions to occur. Make a note of what you find and explain the procedure you used. "
   ],
   "metadata": {
    "collapsed": false
   },
   "id": "a7324cb9cdbe8e0e"
  },
  {
   "cell_type": "code",
   "outputs": [],
   "source": [],
   "metadata": {
    "collapsed": false,
    "ExecuteTime": {
     "end_time": "2024-02-20T12:57:43.192366Z",
     "start_time": "2024-02-20T12:57:43.183480Z"
    }
   },
   "id": "97a2532da23b39bb",
   "execution_count": null
  },
  {
   "cell_type": "markdown",
   "source": [
    "### 3.2.2 Design a de-anonymisation algorithm and apply to both the received dataset and your dataset. Report on the following:"
   ],
   "metadata": {
    "collapsed": false
   },
   "id": "4c3e2ef7e7a435a4"
  },
  {
   "cell_type": "code",
   "outputs": [],
   "source": [],
   "metadata": {
    "collapsed": false,
    "ExecuteTime": {
     "end_time": "2024-02-20T12:57:43.196503Z",
     "start_time": "2024-02-20T12:57:43.193717Z"
    }
   },
   "id": "46b12fa7233d4e62",
   "execution_count": null
  }
 ],
 "metadata": {
  "kernelspec": {
   "display_name": "Python 3",
   "language": "python",
   "name": "python3"
  },
  "language_info": {
   "codemirror_mode": {
    "name": "ipython",
    "version": 2
   },
   "file_extension": ".py",
   "mimetype": "text/x-python",
   "name": "python",
   "nbconvert_exporter": "python",
   "pygments_lexer": "ipython2",
   "version": "2.7.6"
  }
 },
 "nbformat": 4,
 "nbformat_minor": 5
}
