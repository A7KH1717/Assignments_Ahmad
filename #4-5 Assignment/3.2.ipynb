{
 "cells": [
  {
   "cell_type": "markdown",
   "source": [
    "## 3.2 De-anonymising a dataset – 50 marks\n",
    "For this task, we are using a dataset provided to us by our colleagues. The Dataset has been anonymized using bayesian inferences. \n",
    "- Dataset:  \n",
    "- Credits: "
   ],
   "metadata": {
    "collapsed": false
   },
   "id": "ed1dad3c5496335"
  },
  {
   "cell_type": "markdown",
   "source": [
    "### 3.2.1 Using standard search mechanisms, determine if there are any elements within the dataset that you received, that allow for de-anonymistaions to occur. Make a note of what you find and explain the procedure you used. "
   ],
   "metadata": {
    "collapsed": false
   },
   "id": "a7324cb9cdbe8e0e"
  },
  {
   "cell_type": "code",
   "outputs": [],
   "source": [
    "import pandas as pd\n",
    "from googlesearch import search\n",
    "from bs4 import BeautifulSoup\n",
    "import requests\n",
    "\n",
    "# Load your dataset\n",
    "df = pd.read_csv('police_shooting_anonymized.csv')\n",
    "\n",
    "\n",
    "\n",
    "# List to store the names\n",
    "names = []\n",
    "\n",
    "# Iterate over each record in the dataset\n",
    "for record in df:\n",
    "    query = f\"{record['city']} {record['location']} {record['manner_of_death']} police shooting\"\n",
    "    # Perform a web search for each query\n",
    "    for j in search(query, num=10, stop=10, pause=2):\n",
    "        # Make a request to the content of the search result\n",
    "        page = requests.get(j)\n",
    "        soup = BeautifulSoup(page.content, 'html.parser')\n",
    "        \n",
    "        # Here you would have logic to parse the soup object and extract names\n",
    "        # This is highly dependent on the structure of the web page\n",
    "        # For example:\n",
    "        # name_tags = soup.find_all('h1', class_='name')\n",
    "        # for tag in name_tags:\n",
    "        #     names.append(tag.text.strip())\n",
    "\n",
    "# Print or save the extracted names\n",
    "print(names)"
   ],
   "metadata": {
    "collapsed": false,
    "ExecuteTime": {
     "end_time": "2024-02-20T12:57:43.192366Z",
     "start_time": "2024-02-20T12:57:43.183480Z"
    }
   },
   "id": "97a2532da23b39bb",
   "execution_count": null
  },
  {
   "cell_type": "markdown",
   "source": [
    "### 3.2.2 Design a de-anonymisation algorithm and apply to both the received dataset and your dataset. Report on the following:"
   ],
   "metadata": {
    "collapsed": false
   },
   "id": "4c3e2ef7e7a435a4"
  },
  {
   "cell_type": "code",
   "outputs": [
    {
     "name": "stdout",
     "output_type": "stream",
     "text": [
      "Outlier rows with distances have been exported to 'outliers_with_distances.csv'.\n"
     ]
    }
   ],
   "source": [
    "import pandas as pd\n",
    "from sklearn.preprocessing import OneHotEncoder, StandardScaler\n",
    "from sklearn.decomposition import PCA\n",
    "from sklearn.pipeline import Pipeline\n",
    "import numpy as np\n",
    "\n",
    "# Load dataset from CSV file\n",
    "file_path = 'police_shooting_anonymized.csv'  \n",
    "df = pd.read_csv(file_path)\n",
    "\n",
    "# Convert 'date' column to a numerical feature\n",
    "df['date'] = pd.to_datetime(df['date'])\n",
    "df['days_since'] = (df['date'] - df['date'].min()).dt.days\n",
    "\n",
    "# Select columns to be one-hot encoded\n",
    "categorical_cols = ['city', 'manner_of_death']\n",
    "\n",
    "# One-hot encoding\n",
    "encoder = OneHotEncoder()\n",
    "encoded_features = encoder.fit_transform(df[categorical_cols]).toarray()\n",
    "encoded_feature_names = encoder.get_feature_names_out(categorical_cols)\n",
    "encoded_df = pd.DataFrame(encoded_features, columns=encoded_feature_names)\n",
    "\n",
    "# Combine encoded features with the numerical 'days_since' column\n",
    "final_df = pd.concat([encoded_df, df['days_since']], axis=1)\n",
    "\n",
    "# PCA and StandardScaler in a Pipeline\n",
    "pipeline = Pipeline([\n",
    "    ('scaler', StandardScaler()),\n",
    "    ('pca', PCA(n_components=2))  # Adjust n_components as needed\n",
    "])\n",
    "\n",
    "# Fit and transform the data\n",
    "pca_features = pipeline.fit_transform(final_df)\n",
    "\n",
    "# Calculate the Euclidean distance from the origin for each point\n",
    "distances = np.linalg.norm(pca_features, axis=1)\n",
    "\n",
    "# Determine a threshold for outliers\n",
    "threshold = np.mean(distances) + 2 * np.std(distances)\n",
    "\n",
    "# Identify outliers\n",
    "outliers = distances > threshold\n",
    "\n",
    "# Retrieve the entire corresponding rows of the dataset for the outliers\n",
    "outlier_indices = np.where(outliers)[0]\n",
    "outlier_rows = df.iloc[outlier_indices].copy()  # Use .copy() to avoid SettingWithCopyWarning\n",
    "\n",
    "# Add the outlier distances to these rows\n",
    "outlier_rows['outlier_distance'] = distances[outliers]\n",
    "\n",
    "# Export the outlier rows with distances to a new CSV file\n",
    "outlier_rows.to_csv('outliers_with_distances.csv', index=False)\n",
    "\n",
    "print(\"Outlier rows with distances have been exported to 'outliers_with_distances.csv'.\")\n"
   ],
   "metadata": {
    "collapsed": false,
    "ExecuteTime": {
     "end_time": "2024-02-20T16:55:18.691704400Z",
     "start_time": "2024-02-20T16:55:18.145647800Z"
    }
   },
   "id": "46b12fa7233d4e62",
   "execution_count": 8
  }
 ],
 "metadata": {
  "kernelspec": {
   "display_name": "Python 3",
   "language": "python",
   "name": "python3"
  },
  "language_info": {
   "codemirror_mode": {
    "name": "ipython",
    "version": 2
   },
   "file_extension": ".py",
   "mimetype": "text/x-python",
   "name": "python",
   "nbconvert_exporter": "python",
   "pygments_lexer": "ipython2",
   "version": "2.7.6"
  }
 },
 "nbformat": 4,
 "nbformat_minor": 5
}
