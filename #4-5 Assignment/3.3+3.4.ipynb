{
 "cells": [
  {
   "cell_type": "markdown",
   "source": [
    "### 3.1.3 Using the techniques you applied in Assignment #1, apply a masking or transformation mechanism to modify the detected PII elements and substitute with suitable replacements.\n",
    "In the following section, we will apply techniques similar to those used in Assignment #1 to mask or transform Personally Identifiable Information (PII) detected in a dataset. The goal is to substitute these sensitive elements with suitable replacements while maintaining the overall structure and coherence of the data."
   ],
   "metadata": {
    "collapsed": false
   },
   "id": "bf64464ca6c1a3f2"
  },
  {
   "cell_type": "markdown",
   "source": [
    "As a first step, we start by checking how many occurrences of which category we have in our new PII column. This information is crucial for planning further anonymization steps. "
   ],
   "metadata": {
    "collapsed": false
   },
   "id": "d7817bcdb4dd409c"
  },
  {
   "cell_type": "code",
   "execution_count": 19,
   "outputs": [],
   "source": [
    "import pandas as pd\n",
    "df = pd.read_csv(\"PII_tweet_emotions.csv\")"
   ],
   "metadata": {
    "collapsed": false,
    "ExecuteTime": {
     "end_time": "2024-01-27T20:05:45.546323100Z",
     "start_time": "2024-01-27T20:05:45.473103400Z"
    }
   },
   "id": "e43fe2f2f918c4e8"
  },
  {
   "cell_type": "code",
   "execution_count": 20,
   "outputs": [
    {
     "name": "stdout",
     "output_type": "stream",
     "text": [
      "Counter({'PERSON': 10340, 'ORG': 8815, 'DATE': 7560, 'CARDINAL': 3430, 'GPE': 3269, 'TIME': 2964, 'NORP': 957, 'PRODUCT': 702, 'ORDINAL': 680, 'WORK_OF_ART': 607, 'MONEY': 353, 'LOC': 244, 'FAC': 210, 'QUANTITY': 191, 'EVENT': 123, 'LANGUAGE': 106, 'PERCENT': 75, 'LAW': 35})\n",
      "18\n"
     ]
    }
   ],
   "source": [
    "import collections\n",
    "import ast \n",
    "\n",
    "# Function to extract entities from a string and return their labels\n",
    "def extract_labels(data_string):\n",
    "    # Convert string representation of list to actual list\n",
    "    entities = ast.literal_eval(data_string)\n",
    "    # Extract labels\n",
    "    return [label for _, label in entities]\n",
    "\n",
    "# Extract labels from each item in the data\n",
    "all_labels = [label for item in df['PII'] for label in extract_labels(item)]\n",
    "\n",
    "# Count occurrences of each label\n",
    "label_counts = collections.Counter(all_labels)\n",
    "\n",
    "print(label_counts)\n",
    "print(len(label_counts))"
   ],
   "metadata": {
    "collapsed": false,
    "ExecuteTime": {
     "end_time": "2024-01-27T20:05:45.879946700Z",
     "start_time": "2024-01-27T20:05:45.533908700Z"
    }
   },
   "id": "ca1a2b35fc634953"
  },
  {
   "cell_type": "markdown",
   "source": [
    "The 18 different categories have the following meaning: \n",
    "\n",
    "- PERSON: Names of people.\n",
    "- ORG: Organizations, including companies, agencies, institutions, etc.\n",
    "- DATE: Absolute or relative dates or periods.\n",
    "- CARDINAL: Numerals that do not fall under another type (like dates or quantities).\n",
    "- GPE: Geopolitical entity, typically referring to countries, cities, states.\n",
    "- TIME: Times smaller than a day, including specific time periods, durations, or times of day.\n",
    "- NORP: Nationalities, religious or political groups.\n",
    "- ORDINAL: \"First\", \"second\", etc., used to denote position in a ordered sequence.\n",
    "- PRODUCT: Objects, vehicles, foods, etc. (not services).\n",
    "- MONEY: Monetary values, including unit.\n",
    "- WORK_OF_ART: Titles of books, songs, etc.\n",
    "- LOC: Non-GPE locations, mountain ranges, bodies of water.\n",
    "- FAC: Facilities, including buildings, airports, highways, bridges, etc.\n",
    "- QUANTITY: Measurements, as of weight or distance.\n",
    "- EVENT: Named hurricanes, battles, wars, sports events, etc.\n",
    "- PERCENT: Percentage (including \"%\").\n",
    "- LANGUAGE: Any named language.\n",
    "- LAW: Named documents made into laws.\n",
    "\n",
    "\n",
    "So, we now know that there are 18 types of different datatypes that should be anonymized in some kind of way. We start by anonymizing the easiest ones with the faker library:"
   ],
   "metadata": {
    "collapsed": false
   },
   "id": "ba51d728bb1e8400"
  },
  {
   "cell_type": "code",
   "execution_count": 21,
   "outputs": [],
   "source": [
    "import spacy\n",
    "\n",
    "#Load the large, pre-trained spaCy model\n",
    "nlp = spacy.load('en_core_web_lg')"
   ],
   "metadata": {
    "collapsed": false,
    "ExecuteTime": {
     "end_time": "2024-01-27T20:05:47.129998300Z",
     "start_time": "2024-01-27T20:05:45.870918100Z"
    }
   },
   "id": "b05743fe8a77ffb9"
  },
  {
   "cell_type": "code",
   "execution_count": 22,
   "outputs": [],
   "source": [
    "from faker import Faker\n",
    "import re\n",
    "import random\n",
    "\n",
    "def close_number(original_number):\n",
    "    try:\n",
    "        num = int(original_number)\n",
    "        # Generate a number within ±10% of the original number or ±3, whichever is greater\n",
    "        percentage_variation = int(num * 0.1)\n",
    "        min_variation = 3  # Minimum variation\n",
    "        variation = max(min_variation, percentage_variation)\n",
    "        return str(random.randint(max(0, num - variation), num + variation))\n",
    "    except ValueError:\n",
    "        # Return the original number if it's not an integer\n",
    "        return original_number\n",
    "    \n",
    "def fake_ordinal():\n",
    "    number = fake.random_int(min=1, max=100)\n",
    "    suffix = [\"th\", \"st\", \"nd\", \"rd\"] + [\"th\"] * 6\n",
    "    return str(number) + suffix[number % 10 if number % 100 not in [11, 12, 13] else 0]\n",
    "    \n",
    "fake = Faker()\n",
    "def replace_pii_with_fake(text):\n",
    "    # Process the text using spaCy to identify named entities\n",
    "    doc = nlp(text)\n",
    "\n",
    "    # Replace Twitter @username with @ followed by a fake first name\n",
    "    text = re.sub(r'@(\\w+)', lambda x: '@' + fake.first_name(), text)\n",
    "\n",
    "    # Iterate over the identified entities\n",
    "    for ent in doc.ents:\n",
    "        # Replace with fake data based on the entity type\n",
    "        if ent.label_ == 'PERSON':\n",
    "            # Ensure we're not replacing Twitter usernames\n",
    "            if not ent.text.startswith('@'):\n",
    "                text = re.sub(re.escape(ent.text), fake.name(), text)\n",
    "        elif ent.label_ == 'GPE':\n",
    "            text = re.sub(re.escape(ent.text), fake.city(), text)\n",
    "        elif ent.label_ == 'DATE':\n",
    "            text = re.sub(re.escape(ent.text), fake.date(), text)\n",
    "        elif ent.label_ == 'ORG':\n",
    "            text = re.sub(re.escape(ent.text), fake.company(), text)\n",
    "        elif ent.label_ == 'NORP':\n",
    "            text = re.sub(re.escape(ent.text), fake.country(), text)\n",
    "        elif ent.label_ == 'CARDINAL':\n",
    "            text = re.sub(re.escape(ent.text), lambda x: close_number(ent.text), text)\n",
    "        elif ent.label_ == 'ORDINAL':\n",
    "            text = re.sub(re.escape(ent.text), fake_ordinal(), text)\n",
    "        elif ent.label_ == 'TIME':\n",
    "            text = re.sub(re.escape(ent.text), fake.time(), text)\n",
    "    return text\n",
    "\n",
    "\n",
    "df['content'] = df['content'].apply(replace_pii_with_fake)\n",
    "\n",
    "# Save the modified DataFrame to a new CSV file\n",
    "df.to_csv(\"Anonymized_PII_tweet_emotions.csv\", index=False)"
   ],
   "metadata": {
    "collapsed": false,
    "ExecuteTime": {
     "end_time": "2024-01-27T20:08:58.503533500Z",
     "start_time": "2024-01-27T20:05:47.136841900Z"
    }
   },
   "id": "3e67063453962912"
  },
  {
   "cell_type": "markdown",
   "source": [
    "Now, that we anonymized seven of the 18 total categories, lets continue with the other 10, that are still missing: \n",
    "-  PRODUCT \n",
    "- MONEY \n",
    "- WORK_OF_ART \n",
    "- LOC \n",
    "- FAC \n",
    "- QUANTITY \n",
    "- EVENT \n",
    "- PERCENT \n",
    "- LANGUAGE \n",
    "- LAW"
   ],
   "metadata": {
    "collapsed": false
   },
   "id": "9f04675cea0f130f"
  },
  {
   "cell_type": "code",
   "execution_count": 22,
   "outputs": [],
   "source": [],
   "metadata": {
    "collapsed": false,
    "ExecuteTime": {
     "end_time": "2024-01-27T20:08:58.514775600Z",
     "start_time": "2024-01-27T20:08:58.503533500Z"
    }
   },
   "id": "3517b896a417891d"
  },
  {
   "cell_type": "markdown",
   "source": [
    "### 3.1.4 Analyse the text to determine if any information can be obtained after the transformation process. What conclusions can you draw from this?"
   ],
   "metadata": {
    "collapsed": false
   },
   "id": "e4d24d03b52d742b"
  },
  {
   "cell_type": "markdown",
   "source": [
    "Idea is to check the semantics of text from the original dataset, the anonymized dataset and see if they are similar. Then, check if the PII from the original dataset are still present in the anonymized dataset\n",
    "\n",
    "Cosine Similarity: Cosine similarity measures the cosine of the angle between two non-zero vectors in a multidimensional space. Its value ranges from -1 to 1, where:\n",
    "\n",
    "1 means the vectors are identical.\n",
    "0 indicates orthogonality (no similarity).\n",
    "-1 implies completely opposite.\n",
    "\n",
    "By using 1 - cosine, we transform the scale:\n",
    "If the cosine similarity is 1 (vectors are identical), 1 - 1 becomes 0, indicating no difference.\n",
    "If the cosine similarity is 0 (vectors are orthogonal), 1 - 0 becomes 1, indicating maximum difference.\n",
    "A cosine similarity of -1 (completely opposite vectors) would result in a transformed similarity of 2, which typically doesn't occur in normalized vector spaces used in text analysis."
   ],
   "metadata": {
    "collapsed": false
   },
   "id": "ece9a46f291c534d"
  },
  {
   "cell_type": "code",
   "execution_count": null,
   "outputs": [],
   "source": [
    "import pandas as pd\n",
    "import torch\n",
    "from scipy.spatial.distance import cosine\n",
    "import numpy as np\n",
    "from transformers import DistilBertTokenizer, DistilBertModel\n",
    "\n",
    "# Load your datasets\n",
    "df = pd.read_csv(\"tweet_emotions.csv\")  # Make sure you've loaded the original dataset into 'df'\n",
    "df_anonymized = pd.read_csv(\"Anonymized_PII_tweet_emotions.csv\")\n",
    "\n",
    "# Set device to GPU if available, else CPU\n",
    "device = torch.device(\"cuda\" if torch.cuda.is_available() else \"cpu\")\n",
    "\n",
    "# Initialize tokenizer and model\n",
    "tokenizer = DistilBertTokenizer.from_pretrained('distilbert-base-uncased')\n",
    "model = DistilBertModel.from_pretrained('distilbert-base-uncased').to(device)\n",
    "\n",
    "# Modify the get_embedding function to send inputs to the GPU\n",
    "def get_embedding(text, tokenizer, model):\n",
    "    inputs = tokenizer(text, return_tensors='pt', truncation=True, max_length=512).to(device)\n",
    "    with torch.no_grad():\n",
    "        outputs = model(**inputs)\n",
    "    return outputs.last_hidden_state.mean(dim=1).squeeze().cpu().numpy()\n",
    "\n",
    "# Function to calculate semantic similarity\n",
    "def semantic_similarity(text1, text2, tokenizer, model):\n",
    "    emb1 = get_embedding(text1, tokenizer, model)\n",
    "    emb2 = get_embedding(text2, tokenizer, model)\n",
    "    # Ensure embeddings are 1-D\n",
    "    emb1 = np.squeeze(emb1)\n",
    "    emb2 = np.squeeze(emb2)\n",
    "    #print(text1 + \" and \" + text2)\n",
    "    return 1 - cosine(emb1, emb2)\n",
    "\n",
    "# Calculate similarities\n",
    "try:\n",
    "    similarity_scores = [semantic_similarity(orig, anon, tokenizer, model) for orig, anon in zip(df['content'], df_anonymized['content'])]\n",
    "except ValueError as e:\n",
    "    print(f\"Error calculating similarity: {e}\")"
   ],
   "metadata": {
    "collapsed": false,
    "is_executing": true,
    "ExecuteTime": {
     "start_time": "2024-01-27T20:08:58.510144400Z"
    }
   },
   "id": "f016ef0d4f4587e4"
  }
 ],
 "metadata": {
  "kernelspec": {
   "display_name": "Python 3",
   "language": "python",
   "name": "python3"
  },
  "language_info": {
   "codemirror_mode": {
    "name": "ipython",
    "version": 2
   },
   "file_extension": ".py",
   "mimetype": "text/x-python",
   "name": "python",
   "nbconvert_exporter": "python",
   "pygments_lexer": "ipython2",
   "version": "2.7.6"
  }
 },
 "nbformat": 4,
 "nbformat_minor": 5
}
