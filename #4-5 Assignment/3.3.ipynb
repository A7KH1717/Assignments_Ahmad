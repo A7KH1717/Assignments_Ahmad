{
 "cells": [
  {
   "cell_type": "markdown",
   "source": [
    "## 3.3 Experiments – 20 marks"
   ],
   "metadata": {
    "collapsed": false
   },
   "id": "6bebe18acebe4abd"
  },
  {
   "cell_type": "markdown",
   "source": [
    "### 3.3.1 Design experiments to test the following: The utility of the data that you have generated using your proposed anonymisation scheme (algorithms) for Q2.c.\n"
   ],
   "metadata": {
    "collapsed": false
   },
   "id": "2f698bef49c8555a"
  },
  {
   "cell_type": "code",
   "outputs": [
    {
     "name": "stdout",
     "output_type": "stream",
     "text": [
      "The cardinality of id is: 1.0\n",
      "The cardinality of manner_of_death is: 0.00025034422330704717\n",
      "The cardinality of armed is: 0.013628182051941374\n",
      "The cardinality of gender is: 0.00025131942699170643\n",
      "The cardinality of race is: 0.0009269272362119574\n",
      "The cardinality of state is: 0.006383777694329703\n",
      "The cardinality of signs_of_mental_illness is: 0.00025034422330704717\n",
      "The cardinality of threat_level is: 0.0003755163349605708\n",
      "The cardinality of flee is: 0.0005688282138794084\n",
      "The cardinality of body_camera is: 0.00025034422330704717\n",
      "The cardinality of age_range is: 0.0004005875283749499\n",
      "The cardinality of year_range is: 0.0003755163349605708\n"
     ]
    }
   ],
   "source": [
    "import pandas as pd\n",
    "\n",
    "# Assuming df is your pandas DataFrame\n",
    "cardinalities = {}\n",
    "df = pd.read_csv('your_anonymized_dataset.csv')\n",
    "for column in df.columns:\n",
    "    u = df[column].nunique()  # Number of unique entries in the column\n",
    "    n = df[column].count()  # Total number of non-NA/null values in the column\n",
    "    c = u / n  # Cardinality calculation\n",
    "    cardinalities[column] = c\n",
    "\n",
    "# Print the cardinality for each attribute\n",
    "for attribute, cardinality in cardinalities.items():\n",
    "    print(f\"The cardinality of {attribute} is: {cardinality}\")"
   ],
   "metadata": {
    "collapsed": false,
    "ExecuteTime": {
     "end_time": "2024-02-21T16:07:43.958884Z",
     "start_time": "2024-02-21T16:07:43.458911600Z"
    }
   },
   "id": "ed04505e8b7a9d12",
   "execution_count": 1
  },
  {
   "cell_type": "markdown",
   "source": [
    "### 3.3.2 Design experiments to test the following: Analyse the new (anonymized) dataset for risks of de-anonymization.\n"
   ],
   "metadata": {
    "collapsed": false
   },
   "id": "36bdaca9a9539e25"
  },
  {
   "cell_type": "markdown",
   "source": [
    "### 3.3.3 Design experiments to test the following: Propose a method of assessing the risk of disclosure (de-anonymisation) and use this metric to evaluate your anonymised datasets (from Assignments #1, and #2-3), the anonymised dataset received from your colleague, and your version of the anonymised dataset that you obtained in Q2.c.\n"
   ],
   "metadata": {
    "collapsed": false
   },
   "id": "8264dfdf269ac2dd"
  }
 ],
 "metadata": {
  "kernelspec": {
   "display_name": "Python 3",
   "language": "python",
   "name": "python3"
  },
  "language_info": {
   "codemirror_mode": {
    "name": "ipython",
    "version": 2
   },
   "file_extension": ".py",
   "mimetype": "text/x-python",
   "name": "python",
   "nbconvert_exporter": "python",
   "pygments_lexer": "ipython2",
   "version": "2.7.6"
  }
 },
 "nbformat": 4,
 "nbformat_minor": 5
}
