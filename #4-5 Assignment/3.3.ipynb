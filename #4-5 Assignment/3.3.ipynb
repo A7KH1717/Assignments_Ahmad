{
 "cells": [
  {
   "cell_type": "markdown",
   "source": [
    "## 3.3 Experiments – 20 marks"
   ],
   "metadata": {
    "collapsed": false
   },
   "id": "6bebe18acebe4abd"
  },
  {
   "cell_type": "markdown",
   "source": [
    "### 3.3.1 Design experiments to test the following: The utility of the data that you have generated using your proposed anonymisation scheme (algorithms) for Q2.c.\n",
    "\n",
    "First, we start with preprocessing measures to ensure we can compare the utility of our data accordingly. "
   ],
   "metadata": {
    "collapsed": false
   },
   "id": "2f698bef49c8555a"
  },
  {
   "cell_type": "code",
   "execution_count": 166,
   "outputs": [
    {
     "name": "stdout",
     "output_type": "stream",
     "text": [
      "    manner_of_death       armed gender race state  signs_of_mental_illness  \\\n",
      "0              shot         gun      M    A    WA                     True   \n",
      "1              shot         gun      M    W    OR                    False   \n",
      "2  shot and Tasered     unarmed      M    H    KS                    False   \n",
      "3              shot  toy weapon      M    W    CA                     True   \n",
      "4              shot    nail gun      M    H    CO                    False   \n",
      "\n",
      "  threat_level         flee  body_camera    year   age  \n",
      "0       attack  Not fleeing        False  2016.5  45.5  \n",
      "1       attack  Not fleeing        False  2016.5  45.5  \n",
      "2        other  Not fleeing        False  2016.5  15.0  \n",
      "3       attack  Not fleeing        False  2016.5  45.5  \n",
      "4       attack  Not fleeing        False  2016.5  45.5  \n"
     ]
    }
   ],
   "source": [
    "import pandas as pd\n",
    "import numpy as np \n",
    "\n",
    "def interval_to_middle(value):\n",
    "    if pd.isna(value):\n",
    "        return np.nan  \n",
    "    start, end = value.split('-')\n",
    "    start = int(start)\n",
    "    end = int(end)\n",
    "    # Calculate the middle value of the interval\n",
    "    middle = (start + end) / 2\n",
    "    return middle\n",
    "\n",
    "# Apply preprocessing measures to be able to compare our two datasets\n",
    "orig_df = pd.read_csv(\"police-shooting.csv\")\n",
    "orig_df = orig_df.drop(['city', 'name', 'longitude', 'latitude', 'is_geocoding_exact', 'id'], axis=1)\n",
    "\n",
    "orig_df['year'] = pd.to_datetime(orig_df['date']).dt.year\n",
    "orig_df = orig_df.drop(['date'], axis=1)\n",
    "\n",
    "anon_df = pd.read_csv(\"k_anon_police.csv\")\n",
    "anon_df['year'] = anon_df['year_range'].apply(interval_to_middle)\n",
    "anon_df['age'] = anon_df['age_range'].apply(interval_to_middle)\n",
    "anon_df = anon_df.drop(['year_range', 'age_range', 'id'], axis=1)\n",
    "\n",
    "print(anon_df.iloc[:5])"
   ],
   "metadata": {
    "collapsed": false,
    "ExecuteTime": {
     "end_time": "2024-03-05T18:16:00.075064Z",
     "start_time": "2024-03-05T18:15:59.976666Z"
    }
   },
   "id": "b8724c5f92389f5e"
  },
  {
   "cell_type": "code",
   "execution_count": 167,
   "outputs": [
    {
     "name": "stdout",
     "output_type": "stream",
     "text": [
      "    manner_of_death       armed   age gender race state  \\\n",
      "0              shot         gun  53.0      M    A    WA   \n",
      "1              shot         gun  47.0      M    W    OR   \n",
      "2  shot and Tasered     unarmed  23.0      M    H    KS   \n",
      "3              shot  toy weapon  32.0      M    W    CA   \n",
      "4              shot    nail gun  39.0      M    H    CO   \n",
      "\n",
      "   signs_of_mental_illness threat_level         flee  body_camera  year  \n",
      "0                     True       attack  Not fleeing        False  2015  \n",
      "1                    False       attack  Not fleeing        False  2015  \n",
      "2                    False        other  Not fleeing        False  2015  \n",
      "3                     True       attack  Not fleeing        False  2015  \n",
      "4                    False       attack  Not fleeing        False  2015  \n"
     ]
    }
   ],
   "source": [
    "print(orig_df.iloc[:5])"
   ],
   "metadata": {
    "collapsed": false,
    "ExecuteTime": {
     "end_time": "2024-03-05T18:16:00.095191Z",
     "start_time": "2024-03-05T18:16:00.077896Z"
    }
   },
   "id": "536f094700215d0"
  },
  {
   "cell_type": "markdown",
   "source": [
    "When preprocessing is done, we compare the cardinality of each of the attributes."
   ],
   "metadata": {
    "collapsed": false
   },
   "id": "298a10d2aae6a101"
  },
  {
   "cell_type": "code",
   "outputs": [
    {
     "name": "stdout",
     "output_type": "stream",
     "text": [
      "Original: The cardinality of manner_of_death is: 0.00025034422330704717\n",
      "Original: The cardinality of armed is: 0.013628182051941374\n",
      "Original: The cardinality of age is: 0.010815863266123648\n",
      "Original: The cardinality of gender is: 0.00025131942699170643\n",
      "Original: The cardinality of race is: 0.0009269272362119574\n",
      "Original: The cardinality of state is: 0.006383777694329703\n",
      "Original: The cardinality of signs_of_mental_illness is: 0.00025034422330704717\n",
      "Original: The cardinality of threat_level is: 0.0003755163349605708\n",
      "Original: The cardinality of flee is: 0.0005688282138794084\n",
      "Original: The cardinality of body_camera is: 0.00025034422330704717\n",
      "Original: The cardinality of year is: 0.0010013768932281887\n",
      "Anonymized: The cardinality of manner_of_death is: 0.00025034422330704717\n",
      "Anonymized: The cardinality of armed is: 0.013628182051941374\n",
      "Anonymized: The cardinality of gender is: 0.00025131942699170643\n",
      "Anonymized: The cardinality of race is: 0.0009269272362119574\n",
      "Anonymized: The cardinality of state is: 0.006383777694329703\n",
      "Anonymized: The cardinality of signs_of_mental_illness is: 0.00025034422330704717\n",
      "Anonymized: The cardinality of threat_level is: 0.0003755163349605708\n",
      "Anonymized: The cardinality of flee is: 0.0005688282138794084\n",
      "Anonymized: The cardinality of body_camera is: 0.00025034422330704717\n",
      "Anonymized: The cardinality of year is: 0.0003755163349605708\n",
      "Anonymized: The cardinality of age is: 0.0004005875283749499\n"
     ]
    }
   ],
   "source": [
    "cardinalities_orig = {}\n",
    "cardinalities_anon = {}\n",
    "\n",
    "for column in orig_df.columns:\n",
    "    u = orig_df[column].nunique() \n",
    "    n = orig_df[column].count()  \n",
    "    c = u / n  # Cardinality calculation\n",
    "    cardinalities_orig[column] = c\n",
    "    \n",
    "for column in anon_df.columns:\n",
    "    u = anon_df[column].nunique() \n",
    "    n = anon_df[column].count()  \n",
    "    c = u / n  # Cardinality calculation\n",
    "    cardinalities_anon[column] = c\n",
    "    \n",
    "for attribute, cardinality in cardinalities_orig.items():\n",
    "    print(f\"Original: The cardinality of {attribute} is: {cardinality}\")\n",
    "    \n",
    "for attribute, cardinality in cardinalities_anon.items():\n",
    "    print(f\"Anonymized: The cardinality of {attribute} is: {cardinality}\")    "
   ],
   "metadata": {
    "collapsed": false,
    "ExecuteTime": {
     "end_time": "2024-03-05T18:16:00.130879Z",
     "start_time": "2024-03-05T18:16:00.092944Z"
    }
   },
   "id": "ed04505e8b7a9d12",
   "execution_count": 168
  },
  {
   "cell_type": "markdown",
   "source": [
    "Then, we proceed by displaying the minimum value, mean value, 25th percentile value, 75th percentile value, standard derivation and the total value count for the numerical values in both of the datasets."
   ],
   "metadata": {
    "collapsed": false
   },
   "id": "c83525f8c784a065"
  },
  {
   "cell_type": "code",
   "execution_count": 169,
   "outputs": [
    {
     "data": {
      "text/plain": "      orig_count    orig_mean   orig_std  orig_min  orig_25%  orig_50%  \\\nage       7489.0    37.215917  12.986545       2.0      27.0      35.0   \nyear      7989.0  2018.536863   2.290178    2015.0    2017.0    2019.0   \n\n      orig_75%  orig_max  anon_count    anon_mean   anon_std  anon_min  \\\nage       45.0      92.0      7489.0    38.072573  17.868025      15.0   \nyear    2021.0    2022.0      7989.0  2019.483352   2.556590    2016.5   \n\n      anon_25%  anon_50%  anon_75%  anon_max  \nage       15.0      45.5      45.5      80.5  \nyear    2016.5    2020.0    2023.0    2023.0  ",
      "text/html": "<div>\n<style scoped>\n    .dataframe tbody tr th:only-of-type {\n        vertical-align: middle;\n    }\n\n    .dataframe tbody tr th {\n        vertical-align: top;\n    }\n\n    .dataframe thead th {\n        text-align: right;\n    }\n</style>\n<table border=\"1\" class=\"dataframe\">\n  <thead>\n    <tr style=\"text-align: right;\">\n      <th></th>\n      <th>orig_count</th>\n      <th>orig_mean</th>\n      <th>orig_std</th>\n      <th>orig_min</th>\n      <th>orig_25%</th>\n      <th>orig_50%</th>\n      <th>orig_75%</th>\n      <th>orig_max</th>\n      <th>anon_count</th>\n      <th>anon_mean</th>\n      <th>anon_std</th>\n      <th>anon_min</th>\n      <th>anon_25%</th>\n      <th>anon_50%</th>\n      <th>anon_75%</th>\n      <th>anon_max</th>\n    </tr>\n  </thead>\n  <tbody>\n    <tr>\n      <th>age</th>\n      <td>7489.0</td>\n      <td>37.215917</td>\n      <td>12.986545</td>\n      <td>2.0</td>\n      <td>27.0</td>\n      <td>35.0</td>\n      <td>45.0</td>\n      <td>92.0</td>\n      <td>7489.0</td>\n      <td>38.072573</td>\n      <td>17.868025</td>\n      <td>15.0</td>\n      <td>15.0</td>\n      <td>45.5</td>\n      <td>45.5</td>\n      <td>80.5</td>\n    </tr>\n    <tr>\n      <th>year</th>\n      <td>7989.0</td>\n      <td>2018.536863</td>\n      <td>2.290178</td>\n      <td>2015.0</td>\n      <td>2017.0</td>\n      <td>2019.0</td>\n      <td>2021.0</td>\n      <td>2022.0</td>\n      <td>7989.0</td>\n      <td>2019.483352</td>\n      <td>2.556590</td>\n      <td>2016.5</td>\n      <td>2016.5</td>\n      <td>2020.0</td>\n      <td>2023.0</td>\n      <td>2023.0</td>\n    </tr>\n  </tbody>\n</table>\n</div>"
     },
     "execution_count": 169,
     "metadata": {},
     "output_type": "execute_result"
    }
   ],
   "source": [
    "stats_original = orig_df.describe().transpose()\n",
    "stats_anonymized = anon_df.describe().transpose()\n",
    "\n",
    "stats_original.columns = ['orig_' + col for col in stats_original.columns]\n",
    "stats_anonymized.columns = ['anon_' + col for col in stats_anonymized.columns]\n",
    "\n",
    "combined_stats = pd.merge(stats_original, stats_anonymized, left_index=True, right_index=True)\n",
    "\n",
    "combined_stats"
   ],
   "metadata": {
    "collapsed": false,
    "ExecuteTime": {
     "end_time": "2024-03-05T18:16:00.156724Z",
     "start_time": "2024-03-05T18:16:00.112630Z"
    }
   },
   "id": "b575f803e1118df5"
  },
  {
   "cell_type": "markdown",
   "source": [
    "We now progress in comparing if there is a difference in the number of missing values in the two datasets. "
   ],
   "metadata": {
    "collapsed": false
   },
   "id": "acf228b20a574c9e"
  },
  {
   "cell_type": "code",
   "execution_count": 170,
   "outputs": [
    {
     "data": {
      "text/plain": "                         original_missing_perc  anonymized_missing_percentage\nage                                   6.258606                       6.258606\narmed                                 2.641132                       2.641132\nbody_camera                           0.000000                       0.000000\nflee                                 11.978971                      11.978971\ngender                                0.388034                       0.388034\nmanner_of_death                       0.000000                       0.000000\nrace                                 18.976092                      18.976092\nsigns_of_mental_illness               0.000000                       0.000000\nstate                                 0.000000                       0.000000\nthreat_level                          0.000000                       0.000000\nyear                                  0.000000                       0.000000",
      "text/html": "<div>\n<style scoped>\n    .dataframe tbody tr th:only-of-type {\n        vertical-align: middle;\n    }\n\n    .dataframe tbody tr th {\n        vertical-align: top;\n    }\n\n    .dataframe thead th {\n        text-align: right;\n    }\n</style>\n<table border=\"1\" class=\"dataframe\">\n  <thead>\n    <tr style=\"text-align: right;\">\n      <th></th>\n      <th>original_missing_perc</th>\n      <th>anonymized_missing_percentage</th>\n    </tr>\n  </thead>\n  <tbody>\n    <tr>\n      <th>age</th>\n      <td>6.258606</td>\n      <td>6.258606</td>\n    </tr>\n    <tr>\n      <th>armed</th>\n      <td>2.641132</td>\n      <td>2.641132</td>\n    </tr>\n    <tr>\n      <th>body_camera</th>\n      <td>0.000000</td>\n      <td>0.000000</td>\n    </tr>\n    <tr>\n      <th>flee</th>\n      <td>11.978971</td>\n      <td>11.978971</td>\n    </tr>\n    <tr>\n      <th>gender</th>\n      <td>0.388034</td>\n      <td>0.388034</td>\n    </tr>\n    <tr>\n      <th>manner_of_death</th>\n      <td>0.000000</td>\n      <td>0.000000</td>\n    </tr>\n    <tr>\n      <th>race</th>\n      <td>18.976092</td>\n      <td>18.976092</td>\n    </tr>\n    <tr>\n      <th>signs_of_mental_illness</th>\n      <td>0.000000</td>\n      <td>0.000000</td>\n    </tr>\n    <tr>\n      <th>state</th>\n      <td>0.000000</td>\n      <td>0.000000</td>\n    </tr>\n    <tr>\n      <th>threat_level</th>\n      <td>0.000000</td>\n      <td>0.000000</td>\n    </tr>\n    <tr>\n      <th>year</th>\n      <td>0.000000</td>\n      <td>0.000000</td>\n    </tr>\n  </tbody>\n</table>\n</div>"
     },
     "execution_count": 170,
     "metadata": {},
     "output_type": "execute_result"
    }
   ],
   "source": [
    "missing_original = orig_df.isnull().sum()\n",
    "missing_anonymized = anon_df.isnull().sum()\n",
    "\n",
    "original_missing_percentage = (missing_original / len(orig_df)) * 100\n",
    "anonymized_missing_percentage = (missing_anonymized / len(anon_df)) * 100\n",
    "\n",
    "completeness_comparison = pd.DataFrame({\n",
    "    'original_missing_perc': original_missing_percentage,\n",
    "    'anonymized_missing_percentage': anonymized_missing_percentage\n",
    "})\n",
    "\n",
    "completeness_comparison"
   ],
   "metadata": {
    "collapsed": false,
    "ExecuteTime": {
     "end_time": "2024-03-05T18:16:00.189982Z",
     "start_time": "2024-03-05T18:16:00.158458Z"
    }
   },
   "id": "cdd144c88173fc9e"
  },
  {
   "cell_type": "markdown",
   "source": [
    "We now proceed with"
   ],
   "metadata": {
    "collapsed": false
   },
   "id": "5a43b45eb33630bd"
  },
  {
   "cell_type": "code",
   "execution_count": 170,
   "outputs": [],
   "source": [],
   "metadata": {
    "collapsed": false,
    "ExecuteTime": {
     "end_time": "2024-03-05T18:16:00.208104Z",
     "start_time": "2024-03-05T18:16:00.172913Z"
    }
   },
   "id": "e04feae7401ab7b7"
  },
  {
   "cell_type": "markdown",
   "source": [
    "### 3.3.2 Design experiments to test the following: Analyse the new (anonymized) dataset for risks of de-anonymization.\n",
    "We are using the same Algorithm proposed in Task 3.2"
   ],
   "metadata": {
    "collapsed": false
   },
   "id": "36bdaca9a9539e25"
  },
  {
   "cell_type": "code",
   "outputs": [],
   "source": [
    "import pandas as pd\n",
    "from scipy import stats\n",
    "import numpy as np\n",
    "import prince\n",
    "import warnings\n",
    "import altair as alt\n",
    "alt.data_transformers.enable(\"vegafusion\")\n",
    "\n",
    "df = pd.read_csv('k_anon_police.csv')\n",
    "# Ignore specific PerformanceWarnings from pandas\n",
    "warnings.filterwarnings('ignore', category=pd.errors.PerformanceWarning)\n",
    "# Load the dataset\n",
    "\n",
    "mca = prince.MCA(\n",
    "    n_components=3,\n",
    "    n_iter=3,\n",
    "    copy=True,\n",
    "    check_input=True,\n",
    "    engine='sklearn',\n",
    "    random_state=42\n",
    ")\n",
    "# Fit FAMD on the dataset\n",
    "mca = mca.fit(df)\n",
    "\n",
    "df_transformed = mca.transform(df)\n",
    "z_scores = np.abs(stats.zscore(df_transformed))\n",
    "outliers = np.where(z_scores > 3) \n",
    "\n",
    "outlier_rows = df.iloc[outliers[0]]\n",
    "outlier_rows.to_csv('athletes_outliers_MCA.csv', index=False)\n",
    "\n",
    "mca.plot(\n",
    "    df,\n",
    "    x_component=0,\n",
    "    y_component=1,\n",
    "    show_column_markers=True,\n",
    "    show_row_markers=True,\n",
    "    show_column_labels=False,\n",
    "    show_row_labels=False\n",
    ")"
   ],
   "metadata": {
    "collapsed": false,
    "is_executing": true,
    "ExecuteTime": {
     "start_time": "2024-03-05T18:16:00.209695Z"
    }
   },
   "id": "179ac1df2603e173",
   "execution_count": null
  },
  {
   "cell_type": "code",
   "execution_count": null,
   "outputs": [],
   "source": [
    "import matplotlib.pyplot as plt\n",
    "\n",
    "plt.figure(figsize=(10, 6))  \n",
    "plt.scatter(df_transformed[0], df_transformed[1]) \n",
    "\n",
    "plt.title('FAMD Results')\n",
    "plt.xlabel('Component 1')\n",
    "plt.ylabel('Component 2')\n",
    "plt.grid(True)\n",
    "\n",
    "plt.show() "
   ],
   "metadata": {
    "collapsed": false,
    "is_executing": true
   },
   "id": "48519a7b25fe0bda"
  },
  {
   "cell_type": "markdown",
   "source": [
    "### 3.3.3 Design experiments to test the following: Propose a method of assessing the risk of disclosure (de-anonymisation) and use this metric to evaluate your anonymised datasets (from Assignments #1, and #2-3), the anonymised dataset received from your colleague, and your version of the anonymised dataset that you obtained in Q2.c.\n"
   ],
   "metadata": {
    "collapsed": false
   },
   "id": "8264dfdf269ac2dd"
  }
 ],
 "metadata": {
  "kernelspec": {
   "display_name": "Python 3",
   "language": "python",
   "name": "python3"
  },
  "language_info": {
   "codemirror_mode": {
    "name": "ipython",
    "version": 2
   },
   "file_extension": ".py",
   "mimetype": "text/x-python",
   "name": "python",
   "nbconvert_exporter": "python",
   "pygments_lexer": "ipython2",
   "version": "2.7.6"
  }
 },
 "nbformat": 4,
 "nbformat_minor": 5
}
