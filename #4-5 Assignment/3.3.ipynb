{
 "cells": [
  {
   "cell_type": "markdown",
   "source": [
    "## 3.3 Experiments – 20 marks"
   ],
   "metadata": {
    "collapsed": false
   },
   "id": "6bebe18acebe4abd"
  },
  {
   "cell_type": "markdown",
   "source": [
    "### 3.3.1 Design experiments to test the following: The utility of the data that you have generated using your proposed anonymisation scheme (algorithms) for Q2.c.\n"
   ],
   "metadata": {
    "collapsed": false
   },
   "id": "2f698bef49c8555a"
  },
  {
   "cell_type": "markdown",
   "source": [
    "### 3.3.2 Design experiments to test the following: Analyse the new (anonymized) dataset for risks of de-anonymization.\n"
   ],
   "metadata": {
    "collapsed": false
   },
   "id": "36bdaca9a9539e25"
  },
  {
   "cell_type": "markdown",
   "source": [
    "### 3.3.3 Design experiments to test the following: Propose a method of assessing the risk of disclosure (de-anonymisation) and use this metric to evaluate your anonymised datasets (from Assignments #1, and #2-3), the anonymised dataset received from your colleague, and your version of the anonymised dataset that you obtained in Q2.c.\n"
   ],
   "metadata": {
    "collapsed": false
   },
   "id": "8264dfdf269ac2dd"
  }
 ],
 "metadata": {
  "kernelspec": {
   "display_name": "Python 3",
   "language": "python",
   "name": "python3"
  },
  "language_info": {
   "codemirror_mode": {
    "name": "ipython",
    "version": 2
   },
   "file_extension": ".py",
   "mimetype": "text/x-python",
   "name": "python",
   "nbconvert_exporter": "python",
   "pygments_lexer": "ipython2",
   "version": "2.7.6"
  }
 },
 "nbformat": 4,
 "nbformat_minor": 5
}
